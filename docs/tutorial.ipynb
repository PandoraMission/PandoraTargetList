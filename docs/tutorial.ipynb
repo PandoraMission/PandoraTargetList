{
 "cells": [
  {
   "cell_type": "markdown",
   "id": "9a656cd9",
   "metadata": {},
   "source": [
    "# PandoraTargetList Tutorial"
   ]
  },
  {
   "cell_type": "markdown",
   "id": "d04ea4f7",
   "metadata": {},
   "source": [
    "Here is a brief tutorial on how to make target definition files."
   ]
  },
  {
   "cell_type": "code",
   "execution_count": 1,
   "id": "31883248",
   "metadata": {},
   "outputs": [
    {
     "name": "stderr",
     "output_type": "stream",
     "text": [
      "/Users/bhord/anaconda3/envs/pandora/lib/python3.10/site-packages/pandas/core/computation/expressions.py:21: UserWarning: Pandas requires version '2.8.4' or newer of 'numexpr' (version '2.8.3' currently installed).\n",
      "  from pandas.core.computation.check import NUMEXPR_INSTALLED\n"
     ]
    }
   ],
   "source": [
    "import pandoratargetlist as ptl"
   ]
  },
  {
   "cell_type": "code",
   "execution_count": null,
   "id": "75656212",
   "metadata": {},
   "outputs": [],
   "source": []
  }
 ],
 "metadata": {
  "kernelspec": {
   "display_name": "pandora",
   "language": "python",
   "name": "python3"
  },
  "language_info": {
   "codemirror_mode": {
    "name": "ipython",
    "version": 3
   },
   "file_extension": ".py",
   "mimetype": "text/x-python",
   "name": "python",
   "nbconvert_exporter": "python",
   "pygments_lexer": "ipython3",
   "version": "3.10.4"
  }
 },
 "nbformat": 4,
 "nbformat_minor": 5
}
