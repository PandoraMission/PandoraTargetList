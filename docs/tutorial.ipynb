{
 "cells": [
  {
   "cell_type": "markdown",
   "id": "9a656cd9",
   "metadata": {},
   "source": [
    "# PandoraTargetList Tutorial"
   ]
  },
  {
   "cell_type": "markdown",
   "id": "d04ea4f7",
   "metadata": {},
   "source": [
    "This notebook outlines many of the features and functions of the `pandoratargetlist` package used to create, view, manipulate, and prioritize the target definition files for NASA's Pandora SmallSat mission. By the end of this tutorial, you should have a grasp on the essential functions necessary to interact with the target definition files."
   ]
  },
  {
   "cell_type": "markdown",
   "id": "479d4bf1",
   "metadata": {},
   "source": [
    "Before diving into any of the functionality, let's import the package and check which version we're using."
   ]
  },
  {
   "cell_type": "code",
   "execution_count": 1,
   "id": "d3e14d9c",
   "metadata": {},
   "outputs": [
    {
     "name": "stderr",
     "output_type": "stream",
     "text": [
      "/Users/bhord/anaconda3/envs/pandora/lib/python3.10/site-packages/pandas/core/computation/expressions.py:21: UserWarning: Pandas requires version '2.8.4' or newer of 'numexpr' (version '2.8.3' currently installed).\n",
      "  from pandas.core.computation.check import NUMEXPR_INSTALLED\n"
     ]
    },
    {
     "name": "stdout",
     "output_type": "stream",
     "text": [
      "0.2.0\n"
     ]
    }
   ],
   "source": [
    "import pandoratargetlist as ptl\n",
    "\n",
    "print(ptl.__version__)"
   ]
  },
  {
   "cell_type": "markdown",
   "id": "7fff7afa",
   "metadata": {},
   "source": [
    "## Target Definition Files"
   ]
  },
  {
   "cell_type": "markdown",
   "id": "9e013c25",
   "metadata": {},
   "source": [
    "Target definition files are JSON files that contain _static_ information about a given astrophysical target that is useful in creating a schedule of observations for Pandora. This includes information such Right Ascension and Declination at a given epoch, the name, as well as any stellar and planetary parameters, to name a few. This is not to say that some of the information in the target definition files _can't_ change, just that it's a container for information that won't change often, if at all. It does not contain parameters such as observation priority, how many times the target has been observed, when the target will be observed, etc. that are subject to frequent change.\n",
    "\n",
    "Target definition files are categorized based on what type of target they are with reference to the Pandora SmallSat observing strategy. It's possible for a target to be in multiple categories, depending on the different roles it plays in the Pandora mission. For instance, the system WASP-69 is in both the `primary-exoplanet` and `occultation-standard` categories since it's both a target on the prime mission target list and one that the mission wants to obtain data for while Pandora is occulted by the Earth, when possible. The information contained within the target definition files in each category can vary, however, since some categories are sensitive to time-critical scheduling events such as transits while others can be observed at any time. Viewing the files in the different categories will give you a feel for the type of information required for each."
   ]
  },
  {
   "cell_type": "markdown",
   "id": "306efdd7",
   "metadata": {},
   "source": [
    "Let's take a look at a couple target definition files using `pandoratargetlist` to see what's inside."
   ]
  },
  {
   "cell_type": "markdown",
   "id": "ba8fbc92",
   "metadata": {},
   "source": [
    "### Viewing a target definition file"
   ]
  },
  {
   "cell_type": "markdown",
   "id": "fe04f5dc",
   "metadata": {},
   "source": [
    "The workhorse of interacting with the target definition files is the `Target` class. This will be the main avenue through which you interact with these files. Let's import it."
   ]
  },
  {
   "cell_type": "code",
   "execution_count": 2,
   "id": "31883248",
   "metadata": {},
   "outputs": [],
   "source": [
    "from pandoratargetlist.targets import Target"
   ]
  },
  {
   "cell_type": "markdown",
   "id": "1be91c71",
   "metadata": {},
   "source": [
    "Now let's take a look at the target definition file for WASP-69 b in the `primary-exoplanet` category mentioned above. To initialize the Target object, we're going to use the method `from_name` to specify the name and category of the target that we want to access. Note: we need to include the planet letter 'b' here to avoid cases where confusion could arise from systems with multiple planets."
   ]
  },
  {
   "cell_type": "code",
   "execution_count": 3,
   "id": "75656212",
   "metadata": {},
   "outputs": [
    {
     "name": "stdout",
     "output_type": "stream",
     "text": [
      "Existing file found! Loading info for WASP-69b\n"
     ]
    }
   ],
   "source": [
    "targ = Target.from_name('WASP-69 b', 'primary-exoplanet')"
   ]
  },
  {
   "cell_type": "markdown",
   "id": "74004123",
   "metadata": {},
   "source": [
    "Great, it found the existing file! Notice how we didn't need to specify the planet letter 'b'. The `from_name` function will look for close matches to the input name from among the existing files in an effort to accommodate slight differences in naming conventions. Be careful though, if you're trying to make a new file for a target that doesn't yet exist, you can always set the `explicit` flag to `True`.\n",
    "\n",
    "We can call our `targ` variable to double check the target file that we found."
   ]
  },
  {
   "cell_type": "code",
   "execution_count": 4,
   "id": "f3b69576",
   "metadata": {},
   "outputs": [
    {
     "data": {
      "text/plain": [
       "WASP-69b, primary-exoplanet target"
      ]
     },
     "execution_count": 4,
     "metadata": {},
     "output_type": "execute_result"
    }
   ],
   "source": [
    "targ"
   ]
  },
  {
   "cell_type": "markdown",
   "id": "e113545a",
   "metadata": {},
   "source": [
    "Now that we've got the information from the correct file, let's use the `show` method to see what's contained within. `show` pretty-prints the information as it would appear in the JSON file. You can also just print the `info` property of the `Target` class if you want to interact with the dictionary containing all of the information directly."
   ]
  },
  {
   "cell_type": "code",
   "execution_count": 5,
   "id": "c74787f8",
   "metadata": {},
   "outputs": [
    {
     "name": "stdout",
     "output_type": "stream",
     "text": [
      "{\n",
      "    \"Time Created\": \"2024-10-18 18:01:20\",\n",
      "    \"Version\": \"0.1.3\",\n",
      "    \"Author\": \"Ben Hord\",\n",
      "    \"Time Updated\": \"2025-05-06 18:09:05\",\n",
      "    \"Star Name\": \"WASP-69\",\n",
      "    \"Primary Target\": 1,\n",
      "    \"RA\": 315.0259708078886,\n",
      "    \"DEC\": -5.094870064224303,\n",
      "    \"Coordinate Epoch\": \"J2016.0\",\n",
      "    \"pm_RA\": 33.777785646192,\n",
      "    \"pm_DEC\": -93.58071988791666,\n",
      "    \"Jmag\": 8.031999588012695,\n",
      "    \"Gmag\": 9.491503715515137,\n",
      "    \"Bmag\": NaN,\n",
      "    \"Teff (K)\": 4729.37744140625,\n",
      "    \"logg\": 4.505799770355225,\n",
      "    \"VDA Setting\": \"coadd_50\",\n",
      "    \"NIRDA Setting\": \"samp_4_6\",\n",
      "    \"StarRoiDetMethod\": 0,\n",
      "    \"numPredefinedStarRois\": 9,\n",
      "    \"Planet Name\": \"WASP-69b\",\n",
      "    \"Planet Letter\": \"b\",\n",
      "    \"Period (days)\": 3.86814,\n",
      "    \"Period Uncertainty (days)\": 2e-06,\n",
      "    \"Transit Duration (hrs)\": 2.1610195,\n",
      "    \"Transit Epoch (BJD_TDB)\": 2459798.775459,\n",
      "    \"Transit Epoch Uncertainty (days)\": 0.000132,\n",
      "    \"Obs Window (hrs)\": 24,\n",
      "    \"ROI_coord_epoch\": \"J2016.0\",\n",
      "    \"ROI_coord\": [\n",
      "        [\n",
      "            315.0259708078886,\n",
      "            -5.094870064224303\n",
      "        ],\n",
      "        [\n",
      "            315.15520228097154,\n",
      "            -5.00559251052369\n",
      "        ],\n",
      "        [\n",
      "            314.99562961875927,\n",
      "            -5.131754043093263\n",
      "        ],\n",
      "        [\n",
      "            315.18788919212255,\n",
      "            -5.07831191453295\n",
      "        ],\n",
      "        [\n",
      "            314.9181683534962,\n",
      "            -5.099512712600356\n",
      "        ],\n",
      "        [\n",
      "            314.8751540958047,\n",
      "            -5.14915718947276\n",
      "        ],\n",
      "        [\n",
      "            315.024362489031,\n",
      "            -4.950334061238724\n",
      "        ],\n",
      "        [\n",
      "            315.10082945804805,\n",
      "            -5.020533886691042\n",
      "        ],\n",
      "        [\n",
      "            314.85139250393087,\n",
      "            -5.0159719613981295\n",
      "        ]\n",
      "    ]\n",
      "}\n"
     ]
    }
   ],
   "source": [
    "targ.show()"
   ]
  },
  {
   "cell_type": "markdown",
   "id": "3672b155",
   "metadata": {},
   "source": [
    "Let's take a look how this file compares with the same target but in the `occultation-standard` category. Here the planet letter isn't necessary."
   ]
  },
  {
   "cell_type": "code",
   "execution_count": 6,
   "id": "5557c395",
   "metadata": {},
   "outputs": [
    {
     "name": "stdout",
     "output_type": "stream",
     "text": [
      "Existing file found! Loading info for WASP-69\n",
      "{\n",
      "    \"Time Created\": \"2024-10-18 18:01:20\",\n",
      "    \"Version\": \"0.1.3\",\n",
      "    \"Author\": \"Ben Hord\",\n",
      "    \"Time Updated\": \"2025-05-06 18:11:40\",\n",
      "    \"Star Name\": \"WASP-69\",\n",
      "    \"Primary Target\": 0,\n",
      "    \"RA\": 315.0259708078886,\n",
      "    \"DEC\": -5.094870064224303,\n",
      "    \"Coordinate Epoch\": \"J2016.0\",\n",
      "    \"pm_RA\": 33.777785646192,\n",
      "    \"pm_DEC\": -93.58071988791666,\n",
      "    \"Jmag\": 8.031999588012695,\n",
      "    \"Gmag\": 9.491503715515137,\n",
      "    \"Bmag\": NaN,\n",
      "    \"Teff (K)\": 4729.37744140625,\n",
      "    \"logg\": 4.505799770355225,\n",
      "    \"VDA Setting\": \"coadd_50\",\n",
      "    \"NIRDA Setting\": \"samp_4_6\",\n",
      "    \"StarRoiDetMethod\": 1,\n",
      "    \"numPredefinedStarRois\": 0\n",
      "}\n"
     ]
    }
   ],
   "source": [
    "targ = Target('WASP-69', 'occultation-standard')\n",
    "targ.show()"
   ]
  },
  {
   "cell_type": "markdown",
   "id": "ee8f70a6",
   "metadata": {},
   "source": [
    "Notice how this file contains less information, namely no information about the planet around WASP-69. This is because the `occultation-standard` category cannot handle time-critical events such as exoplanet transits, so the extra information is unnecessary."
   ]
  },
  {
   "cell_type": "markdown",
   "id": "a9a82436",
   "metadata": {},
   "source": [
    "### Creating a target definition file"
   ]
  },
  {
   "cell_type": "markdown",
   "id": "dda0f62e",
   "metadata": {},
   "source": [
    "Suppose the Pandora Science Team has decided that the exoplanet WASP-132 c would be an excellent auxiliary target so we need to add a target definition file for this target to the category `auxiliary-exoplanet`. Let's start by initializing a `Target` object for WASP-132 c and taking a look at the information it contains."
   ]
  },
  {
   "cell_type": "code",
   "execution_count": 7,
   "id": "5730ae9a",
   "metadata": {},
   "outputs": [
    {
     "name": "stdout",
     "output_type": "stream",
     "text": [
      "{\n",
      "    \"Time Created\": NaN,\n",
      "    \"Version\": \"0.2.0\",\n",
      "    \"Author\": NaN,\n",
      "    \"Time Updated\": \"2025-05-13 16:05:15\",\n",
      "    \"Star Name\": \"WASP-132\",\n",
      "    \"Primary Target\": 0,\n",
      "    \"RA\": NaN,\n",
      "    \"DEC\": NaN,\n",
      "    \"Coordinate Epoch\": NaN,\n",
      "    \"pm_RA\": NaN,\n",
      "    \"pm_DEC\": NaN,\n",
      "    \"Jmag\": NaN,\n",
      "    \"Gmag\": NaN,\n",
      "    \"Bmag\": NaN,\n",
      "    \"Teff (K)\": NaN,\n",
      "    \"logg\": NaN,\n",
      "    \"VDA Setting\": NaN,\n",
      "    \"NIRDA Setting\": NaN,\n",
      "    \"StarRoiDetMethod\": NaN,\n",
      "    \"numPredefinedStarRois\": NaN,\n",
      "    \"Planet Name\": NaN,\n",
      "    \"Planet Letter\": NaN,\n",
      "    \"Period (days)\": NaN,\n",
      "    \"Period Uncertainty (days)\": NaN,\n",
      "    \"Transit Duration (hrs)\": NaN,\n",
      "    \"Transit Epoch (BJD_TDB)\": NaN,\n",
      "    \"Transit Epoch Uncertainty (days)\": NaN,\n",
      "    \"Obs Window (hrs)\": NaN\n",
      "}\n"
     ]
    }
   ],
   "source": [
    "targ = Target.from_name('WASP-132 c', 'auxiliary-exoplanet')\n",
    "targ.show()"
   ]
  },
  {
   "cell_type": "markdown",
   "id": "74ffc0f2",
   "metadata": {},
   "source": [
    "As you can see, all of the default keys have been loaded in, but the only keys with values are \"Version\", \"Time Updated\", and \"Star Name\" since that's all that is known with the information we've given it. For our WASP-69 example above, we were only able to populate additional information because an existing target definition file was found that matched the input name."
   ]
  },
  {
   "cell_type": "markdown",
   "id": "ed6b439f",
   "metadata": {},
   "source": [
    "Let's start adding in some information to this target definition file. We can use the `fetch_params` method to fetch information from Gaia DR3 and the NASA Exoplanet Archive to populate all of the keys that contain information about the star and planet. The first time this query is done for a given target in a given Python session, it may take on the order of 30 seconds to a minute."
   ]
  },
  {
   "cell_type": "code",
   "execution_count": 8,
   "id": "5860f048",
   "metadata": {},
   "outputs": [
    {
     "name": "stdout",
     "output_type": "stream",
     "text": [
      "{\n",
      "    \"Time Created\": NaN,\n",
      "    \"Version\": \"0.2.0\",\n",
      "    \"Author\": NaN,\n",
      "    \"Time Updated\": \"2025-05-13 16:05:15\",\n",
      "    \"Star Name\": \"WASP-132\",\n",
      "    \"Primary Target\": 0,\n",
      "    \"RA\": 217.60920221164744,\n",
      "    \"DEC\": -46.159526130256374,\n",
      "    \"Coordinate Epoch\": \"J2016.0\",\n",
      "    \"pm_RA\": 12.255085642630144,\n",
      "    \"pm_DEC\": -73.16945712544822,\n",
      "    \"Jmag\": 10.256999969482422,\n",
      "    \"Gmag\": 11.746747970581055,\n",
      "    \"Bmag\": 12.299771308898926,\n",
      "    \"Teff (K)\": 4783.0498046875,\n",
      "    \"logg\": 4.585599899291992,\n",
      "    \"VDA Setting\": NaN,\n",
      "    \"NIRDA Setting\": NaN,\n",
      "    \"StarRoiDetMethod\": NaN,\n",
      "    \"numPredefinedStarRois\": NaN,\n",
      "    \"Planet Name\": \"WASP-132c\",\n",
      "    \"Planet Letter\": \"c\",\n",
      "    \"Period (days)\": 1.01153624,\n",
      "    \"Period Uncertainty (days)\": 8.95e-07,\n",
      "    \"Transit Duration (hrs)\": 1.491,\n",
      "    \"Transit Epoch (BJD_TDB)\": 2458597.57584,\n",
      "    \"Transit Epoch Uncertainty (days)\": 0.000675,\n",
      "    \"Obs Window (hrs)\": 3.491,\n",
      "    \"Additional Planets\": [\n",
      "        {\n",
      "            \"Planet Letter\": \"b\",\n",
      "            \"Period (days)\": 7.1335164,\n",
      "            \"Period Uncertainty (days)\": 1.9e-06,\n",
      "            \"Transit Duration (hrs)\": 11.04,\n",
      "            \"Transit Epoch (BJD_TDB)\": 2459337.60808,\n",
      "            \"Transit Epoch Uncertainty (days)\": 0.00015000000000000001\n",
      "        },\n",
      "        {\n",
      "            \"Planet Letter\": \"d\",\n",
      "            \"Period (days)\": 1816.6,\n",
      "            \"Period Uncertainty (days)\": 44.4,\n",
      "            \"Transit Duration (hrs)\": NaN,\n",
      "            \"Transit Epoch (BJD_TDB)\": 2455051.5,\n",
      "            \"Transit Epoch Uncertainty (days)\": 95.0\n",
      "        }\n",
      "    ]\n",
      "}\n"
     ]
    }
   ],
   "source": [
    "targ.fetch_params()\n",
    "targ.show()"
   ]
  },
  {
   "cell_type": "markdown",
   "id": "12e171f9",
   "metadata": {},
   "source": [
    "With all of these methods to fetch or determine values for keys in the target definition files, unless you explicitly set `overwrite=True` in the command, it will only populate keys that have NaNs in them, so you don't need to worry about accidentally overwriting information that's already there!"
   ]
  },
  {
   "cell_type": "markdown",
   "id": "1ba55b5e",
   "metadata": {},
   "source": [
    "Great! We can now see that a bunch of information about the system has been populated. Now let's use this information to determine what the best instrument readout schemes would be when observing this target with Pandora. Note: this step may take a minute or two, especially the first time that it's run in a Python session, so be patient! It's simulating Pandora data, which takes some time. We'll set `verbose=True` here for the purposes of following along with some of what it's doing."
   ]
  },
  {
   "cell_type": "code",
   "execution_count": 9,
   "id": "71371093",
   "metadata": {},
   "outputs": [
    {
     "name": "stdout",
     "output_type": "stream",
     "text": [
      "Loaded VDA PSF model!\n",
      "Loaded NIRDA PSF model!\n",
      "{\n",
      "    \"Time Created\": NaN,\n",
      "    \"Version\": \"0.2.0\",\n",
      "    \"Author\": NaN,\n",
      "    \"Time Updated\": \"2025-05-13 16:05:15\",\n",
      "    \"Star Name\": \"WASP-132\",\n",
      "    \"Primary Target\": 0,\n",
      "    \"RA\": 217.60920221164744,\n",
      "    \"DEC\": -46.159526130256374,\n",
      "    \"Coordinate Epoch\": \"J2016.0\",\n",
      "    \"pm_RA\": 12.255085642630144,\n",
      "    \"pm_DEC\": -73.16945712544822,\n",
      "    \"Jmag\": 10.256999969482422,\n",
      "    \"Gmag\": 11.746747970581055,\n",
      "    \"Bmag\": 12.299771308898926,\n",
      "    \"Teff (K)\": 4783.0498046875,\n",
      "    \"logg\": 4.585599899291992,\n",
      "    \"VDA Setting\": \"coadd_50\",\n",
      "    \"NIRDA Setting\": \"samp_4_6\",\n",
      "    \"StarRoiDetMethod\": NaN,\n",
      "    \"numPredefinedStarRois\": NaN,\n",
      "    \"Planet Name\": \"WASP-132c\",\n",
      "    \"Planet Letter\": \"c\",\n",
      "    \"Period (days)\": 1.01153624,\n",
      "    \"Period Uncertainty (days)\": 8.95e-07,\n",
      "    \"Transit Duration (hrs)\": 1.491,\n",
      "    \"Transit Epoch (BJD_TDB)\": 2458597.57584,\n",
      "    \"Transit Epoch Uncertainty (days)\": 0.000675,\n",
      "    \"Obs Window (hrs)\": 3.491,\n",
      "    \"Additional Planets\": [\n",
      "        {\n",
      "            \"Planet Letter\": \"b\",\n",
      "            \"Period (days)\": 7.1335164,\n",
      "            \"Period Uncertainty (days)\": 1.9e-06,\n",
      "            \"Transit Duration (hrs)\": 11.04,\n",
      "            \"Transit Epoch (BJD_TDB)\": 2459337.60808,\n",
      "            \"Transit Epoch Uncertainty (days)\": 0.00015000000000000001\n",
      "        },\n",
      "        {\n",
      "            \"Planet Letter\": \"d\",\n",
      "            \"Period (days)\": 1816.6,\n",
      "            \"Period Uncertainty (days)\": 44.4,\n",
      "            \"Transit Duration (hrs)\": NaN,\n",
      "            \"Transit Epoch (BJD_TDB)\": 2455051.5,\n",
      "            \"Transit Epoch Uncertainty (days)\": 95.0\n",
      "        }\n",
      "    ]\n",
      "}\n"
     ]
    }
   ],
   "source": [
    "targ.get_instrument_settings(verbose=True)\n",
    "targ.show()"
   ]
  },
  {
   "cell_type": "markdown",
   "id": "82df609e",
   "metadata": {},
   "source": [
    "You can see now that the VDA and NIRDA Setting keywords have been populated with a string value. These strings correspond to readout schemes that are defined in the `vda_readout_schemes.json` and `nirda_readout_schemes.json` files in the `target_definition_files` directory if you want to see what these strings correspond to."
   ]
  },
  {
   "cell_type": "markdown",
   "id": "724c1359",
   "metadata": {},
   "source": [
    "Now all that's left is to determing how the Regions of Interest (ROIs) are going to be determined and determine them, if necessary."
   ]
  },
  {
   "cell_type": "code",
   "execution_count": 10,
   "id": "5c71981c",
   "metadata": {},
   "outputs": [
    {
     "name": "stdout",
     "output_type": "stream",
     "text": [
      "{\n",
      "    \"Time Created\": NaN,\n",
      "    \"Version\": \"0.2.0\",\n",
      "    \"Author\": NaN,\n",
      "    \"Time Updated\": \"2025-05-13 16:05:15\",\n",
      "    \"Star Name\": \"WASP-132\",\n",
      "    \"Primary Target\": 0,\n",
      "    \"RA\": 217.60920221164744,\n",
      "    \"DEC\": -46.159526130256374,\n",
      "    \"Coordinate Epoch\": \"J2016.0\",\n",
      "    \"pm_RA\": 12.255085642630144,\n",
      "    \"pm_DEC\": -73.16945712544822,\n",
      "    \"Jmag\": 10.256999969482422,\n",
      "    \"Gmag\": 11.746747970581055,\n",
      "    \"Bmag\": 12.299771308898926,\n",
      "    \"Teff (K)\": 4783.0498046875,\n",
      "    \"logg\": 4.585599899291992,\n",
      "    \"VDA Setting\": \"coadd_50\",\n",
      "    \"NIRDA Setting\": \"samp_4_6\",\n",
      "    \"StarRoiDetMethod\": 1,\n",
      "    \"numPredefinedStarRois\": 0,\n",
      "    \"Planet Name\": \"WASP-132c\",\n",
      "    \"Planet Letter\": \"c\",\n",
      "    \"Period (days)\": 1.01153624,\n",
      "    \"Period Uncertainty (days)\": 8.95e-07,\n",
      "    \"Transit Duration (hrs)\": 1.491,\n",
      "    \"Transit Epoch (BJD_TDB)\": 2458597.57584,\n",
      "    \"Transit Epoch Uncertainty (days)\": 0.000675,\n",
      "    \"Obs Window (hrs)\": 3.491,\n",
      "    \"Additional Planets\": [\n",
      "        {\n",
      "            \"Planet Letter\": \"b\",\n",
      "            \"Period (days)\": 7.1335164,\n",
      "            \"Period Uncertainty (days)\": 1.9e-06,\n",
      "            \"Transit Duration (hrs)\": 11.04,\n",
      "            \"Transit Epoch (BJD_TDB)\": 2459337.60808,\n",
      "            \"Transit Epoch Uncertainty (days)\": 0.00015000000000000001\n",
      "        },\n",
      "        {\n",
      "            \"Planet Letter\": \"d\",\n",
      "            \"Period (days)\": 1816.6,\n",
      "            \"Period Uncertainty (days)\": 44.4,\n",
      "            \"Transit Duration (hrs)\": NaN,\n",
      "            \"Transit Epoch (BJD_TDB)\": 2455051.5,\n",
      "            \"Transit Epoch Uncertainty (days)\": 95.0\n",
      "        }\n",
      "    ]\n",
      "}\n"
     ]
    }
   ],
   "source": [
    "targ.get_rois()\n",
    "targ.show()"
   ]
  },
  {
   "cell_type": "markdown",
   "id": "7dc86233",
   "metadata": {},
   "source": [
    "ROIs are only predefined in the target definition files for `primary-exoplanet` targets. Otherwise, the `StarRoiDetMethod` is set to 1 and the algorithm onboard Pandora chooses ROIs for us immediately prior to observation."
   ]
  },
  {
   "cell_type": "markdown",
   "id": "134bafea",
   "metadata": {},
   "source": [
    "We now have a full set of parameters for our target! Let's go ahead and save our file using the `save` method so that our changes are applied and the file is created. As part of this, a few keys including \"Author\" and \"Time Created\" will be updated. The default value for the \"Author\" key is \"system\", so if you want to change it to your name, set the `author` argument when first initializing the `Target` object!"
   ]
  },
  {
   "cell_type": "code",
   "execution_count": 11,
   "id": "fa712bc3",
   "metadata": {},
   "outputs": [],
   "source": [
    "targ.save()"
   ]
  },
  {
   "cell_type": "markdown",
   "id": "486ee45c",
   "metadata": {},
   "source": [
    "You can take a moment to inspect and admire the file you just created. If you followed the tutorial as written, it should appear in the `auxiliary_exoplanet` directory within the `target_definition_files` directory.\n",
    "\n",
    "Unfortunately, the Pandora Science Team has not, in fact, selected WASP-132 c as an auxiliary target, so we should clean up the directory by deleting the file we just created. We can do this using the `delete_file` method. As long as you have not changed the `targ` variable to something else, it should know the path of the file it needs to delete."
   ]
  },
  {
   "cell_type": "code",
   "execution_count": 12,
   "id": "97620df1",
   "metadata": {},
   "outputs": [],
   "source": [
    "targ.delete_file()"
   ]
  },
  {
   "cell_type": "markdown",
   "id": "7896fa24",
   "metadata": {},
   "source": [
    "Alternatively to doing all of this piecemeal, you can use the method `make_file` to go through the entire process with a single command (or even a single line if you need to save space)."
   ]
  },
  {
   "cell_type": "code",
   "execution_count": 13,
   "id": "ebb10c6f",
   "metadata": {},
   "outputs": [
    {
     "name": "stdout",
     "output_type": "stream",
     "text": [
      "Loaded VDA PSF model!\n",
      "Loaded NIRDA PSF model!\n",
      "{\n",
      "    \"Time Created\": \"2025-05-13 16:07:01\",\n",
      "    \"Version\": \"0.2.0\",\n",
      "    \"Author\": \"system\",\n",
      "    \"Time Updated\": \"2025-05-13 16:07:01\",\n",
      "    \"Star Name\": \"WASP-132\",\n",
      "    \"Primary Target\": 0,\n",
      "    \"RA\": 217.60920221164744,\n",
      "    \"DEC\": -46.159526130256374,\n",
      "    \"Coordinate Epoch\": \"J2016.0\",\n",
      "    \"pm_RA\": 12.255085642630144,\n",
      "    \"pm_DEC\": -73.16945712544822,\n",
      "    \"Jmag\": 10.256999969482422,\n",
      "    \"Gmag\": 11.746747970581055,\n",
      "    \"Bmag\": 12.299771308898926,\n",
      "    \"Teff (K)\": 4783.0498046875,\n",
      "    \"logg\": 4.585599899291992,\n",
      "    \"VDA Setting\": \"coadd_50\",\n",
      "    \"NIRDA Setting\": \"samp_4_6\",\n",
      "    \"StarRoiDetMethod\": 1,\n",
      "    \"numPredefinedStarRois\": 0,\n",
      "    \"Planet Name\": \"WASP-132c\",\n",
      "    \"Planet Letter\": \"c\",\n",
      "    \"Period (days)\": 1.01153624,\n",
      "    \"Period Uncertainty (days)\": 8.95e-07,\n",
      "    \"Transit Duration (hrs)\": 1.491,\n",
      "    \"Transit Epoch (BJD_TDB)\": 2458597.57584,\n",
      "    \"Transit Epoch Uncertainty (days)\": 0.000675,\n",
      "    \"Obs Window (hrs)\": 3.491,\n",
      "    \"Additional Planets\": [\n",
      "        {\n",
      "            \"Planet Letter\": \"b\",\n",
      "            \"Period (days)\": 7.1335164,\n",
      "            \"Period Uncertainty (days)\": 1.9e-06,\n",
      "            \"Transit Duration (hrs)\": 11.04,\n",
      "            \"Transit Epoch (BJD_TDB)\": 2459337.60808,\n",
      "            \"Transit Epoch Uncertainty (days)\": 0.00015000000000000001\n",
      "        },\n",
      "        {\n",
      "            \"Planet Letter\": \"d\",\n",
      "            \"Period (days)\": 1816.6,\n",
      "            \"Period Uncertainty (days)\": 44.4,\n",
      "            \"Transit Duration (hrs)\": NaN,\n",
      "            \"Transit Epoch (BJD_TDB)\": 2455051.5,\n",
      "            \"Transit Epoch Uncertainty (days)\": 95.0\n",
      "        }\n",
      "    ]\n",
      "}\n"
     ]
    }
   ],
   "source": [
    "targ = Target.from_name('WASP-132 c', 'auxiliary-exoplanet')\n",
    "targ.make_file(verbose=True)\n",
    "targ.show()"
   ]
  },
  {
   "cell_type": "markdown",
   "id": "19657a0f",
   "metadata": {},
   "source": [
    "And let's make sure to delete it since this is just a tutorial!"
   ]
  },
  {
   "cell_type": "code",
   "execution_count": 14,
   "id": "7f366119",
   "metadata": {},
   "outputs": [],
   "source": [
    "targ.delete_file()"
   ]
  },
  {
   "cell_type": "markdown",
   "id": "f57285d2",
   "metadata": {},
   "source": [
    "### Editing a target definition file"
   ]
  },
  {
   "cell_type": "markdown",
   "id": "3005e19e",
   "metadata": {},
   "source": [
    "Whether you're generating a target definition file for the first time or loading in an existing file, you can update and edit the information contained within easily. Take, for example, our WASP-132 c auxiliary-exoplanet target that we already have initialized. Suppose I want to update the value of \"Bmag\" to something else and add in a \"Best Target Flag\" key to let everyone know that this is the best target. We can use the `update` method to edit and add keywords and values to the target definition file information."
   ]
  },
  {
   "cell_type": "code",
   "execution_count": 15,
   "id": "3819cd5b",
   "metadata": {},
   "outputs": [
    {
     "name": "stdout",
     "output_type": "stream",
     "text": [
      "{\n",
      "    \"Time Created\": \"2025-05-13 16:07:01\",\n",
      "    \"Version\": \"0.2.0\",\n",
      "    \"Author\": \"system\",\n",
      "    \"Time Updated\": \"2025-05-13 16:07:01\",\n",
      "    \"Star Name\": \"WASP-132\",\n",
      "    \"Primary Target\": 0,\n",
      "    \"RA\": 217.60920221164744,\n",
      "    \"DEC\": -46.159526130256374,\n",
      "    \"Coordinate Epoch\": \"J2016.0\",\n",
      "    \"pm_RA\": 12.255085642630144,\n",
      "    \"pm_DEC\": -73.16945712544822,\n",
      "    \"Jmag\": 10.256999969482422,\n",
      "    \"Gmag\": 11.746747970581055,\n",
      "    \"Bmag\": 10.1,\n",
      "    \"Teff (K)\": 4783.0498046875,\n",
      "    \"logg\": 4.585599899291992,\n",
      "    \"VDA Setting\": \"coadd_50\",\n",
      "    \"NIRDA Setting\": \"samp_4_6\",\n",
      "    \"StarRoiDetMethod\": 1,\n",
      "    \"numPredefinedStarRois\": 0,\n",
      "    \"Planet Name\": \"WASP-132c\",\n",
      "    \"Planet Letter\": \"c\",\n",
      "    \"Period (days)\": 1.01153624,\n",
      "    \"Period Uncertainty (days)\": 8.95e-07,\n",
      "    \"Transit Duration (hrs)\": 1.491,\n",
      "    \"Transit Epoch (BJD_TDB)\": 2458597.57584,\n",
      "    \"Transit Epoch Uncertainty (days)\": 0.000675,\n",
      "    \"Obs Window (hrs)\": 3.491,\n",
      "    \"Additional Planets\": [\n",
      "        {\n",
      "            \"Planet Letter\": \"b\",\n",
      "            \"Period (days)\": 7.1335164,\n",
      "            \"Period Uncertainty (days)\": 1.9e-06,\n",
      "            \"Transit Duration (hrs)\": 11.04,\n",
      "            \"Transit Epoch (BJD_TDB)\": 2459337.60808,\n",
      "            \"Transit Epoch Uncertainty (days)\": 0.00015000000000000001\n",
      "        },\n",
      "        {\n",
      "            \"Planet Letter\": \"d\",\n",
      "            \"Period (days)\": 1816.6,\n",
      "            \"Period Uncertainty (days)\": 44.4,\n",
      "            \"Transit Duration (hrs)\": NaN,\n",
      "            \"Transit Epoch (BJD_TDB)\": 2455051.5,\n",
      "            \"Transit Epoch Uncertainty (days)\": 95.0\n",
      "        }\n",
      "    ],\n",
      "    \"Best Target Flag\": 1\n",
      "}\n"
     ]
    },
    {
     "name": "stderr",
     "output_type": "stream",
     "text": [
      "/Users/bhord/research/pandora/PandoraTargetList/src/pandoratargetlist/targets.py:523: UserWarning: Warning: 'Best Target Flag' is not already present. Adding it to the dictionary.\n",
      "  warnings.warn(\n"
     ]
    }
   ],
   "source": [
    "targ.update({'Bmag': 10.1, 'Best Target Flag': 1})\n",
    "targ.show()"
   ]
  },
  {
   "cell_type": "markdown",
   "id": "d0a0023b",
   "metadata": {},
   "source": [
    "Notice how a warning is thrown when adding a new keyword to the target definition file. Since a degree of uniformity between target definition files is important, this is a safeguard to inform the user that the key being added is nonstandard for the target category. If you do choose to preserve any non-standard set of keywords in the final target definition file, you will need to use the `explicit=True` flag in the `save` method when saving the file, or else the software will automatically check for and reorder only the standard keywords."
   ]
  },
  {
   "cell_type": "markdown",
   "id": "03c03880",
   "metadata": {},
   "source": [
    "Now it's probably fair to say that we can't unilaterally include a `Best Target Flag` in the file for this target, so let's delete it with the `delete` method."
   ]
  },
  {
   "cell_type": "code",
   "execution_count": 16,
   "id": "408bf7d2",
   "metadata": {},
   "outputs": [
    {
     "name": "stdout",
     "output_type": "stream",
     "text": [
      "{\n",
      "    \"Time Created\": \"2025-05-13 16:07:01\",\n",
      "    \"Version\": \"0.2.0\",\n",
      "    \"Author\": \"system\",\n",
      "    \"Time Updated\": \"2025-05-13 16:07:01\",\n",
      "    \"Star Name\": \"WASP-132\",\n",
      "    \"Primary Target\": 0,\n",
      "    \"RA\": 217.60920221164744,\n",
      "    \"DEC\": -46.159526130256374,\n",
      "    \"Coordinate Epoch\": \"J2016.0\",\n",
      "    \"pm_RA\": 12.255085642630144,\n",
      "    \"pm_DEC\": -73.16945712544822,\n",
      "    \"Jmag\": 10.256999969482422,\n",
      "    \"Gmag\": 11.746747970581055,\n",
      "    \"Bmag\": 10.1,\n",
      "    \"Teff (K)\": 4783.0498046875,\n",
      "    \"logg\": 4.585599899291992,\n",
      "    \"VDA Setting\": \"coadd_50\",\n",
      "    \"NIRDA Setting\": \"samp_4_6\",\n",
      "    \"StarRoiDetMethod\": 1,\n",
      "    \"numPredefinedStarRois\": 0,\n",
      "    \"Planet Name\": \"WASP-132c\",\n",
      "    \"Planet Letter\": \"c\",\n",
      "    \"Period (days)\": 1.01153624,\n",
      "    \"Period Uncertainty (days)\": 8.95e-07,\n",
      "    \"Transit Duration (hrs)\": 1.491,\n",
      "    \"Transit Epoch (BJD_TDB)\": 2458597.57584,\n",
      "    \"Transit Epoch Uncertainty (days)\": 0.000675,\n",
      "    \"Obs Window (hrs)\": 3.491,\n",
      "    \"Additional Planets\": [\n",
      "        {\n",
      "            \"Planet Letter\": \"b\",\n",
      "            \"Period (days)\": 7.1335164,\n",
      "            \"Period Uncertainty (days)\": 1.9e-06,\n",
      "            \"Transit Duration (hrs)\": 11.04,\n",
      "            \"Transit Epoch (BJD_TDB)\": 2459337.60808,\n",
      "            \"Transit Epoch Uncertainty (days)\": 0.00015000000000000001\n",
      "        },\n",
      "        {\n",
      "            \"Planet Letter\": \"d\",\n",
      "            \"Period (days)\": 1816.6,\n",
      "            \"Period Uncertainty (days)\": 44.4,\n",
      "            \"Transit Duration (hrs)\": NaN,\n",
      "            \"Transit Epoch (BJD_TDB)\": 2455051.5,\n",
      "            \"Transit Epoch Uncertainty (days)\": 95.0\n",
      "        }\n",
      "    ]\n",
      "}\n"
     ]
    }
   ],
   "source": [
    "targ.delete('Best Target Flag')\n",
    "targ.show()"
   ]
  },
  {
   "cell_type": "markdown",
   "id": "f939cd95",
   "metadata": {},
   "source": [
    "Again, to save this file, you would use the `save` method as shown above. We won't do that here since we don't actually want to write this file to the `auxiliary-exoplanet` directory right now."
   ]
  },
  {
   "cell_type": "markdown",
   "id": "c806ce0c",
   "metadata": {},
   "source": [
    "## Priority Files"
   ]
  },
  {
   "cell_type": "markdown",
   "id": "ee79d839",
   "metadata": {},
   "source": [
    "In order to determine which targets the scheduler should observe first, it's important to have a meta file in the target definition file cateogry directories to prioritize the targets in each category. These files contain not only a ranked order of targets in the category, but also information on how muhc observation time should be devoted to each target, how much has already been executed, and how much still remains, to be updated as observations are made. Generating and interacting with these priority files is therefore important. Using the `Priority` class will allow us to view and manipulate these priority lists."
   ]
  },
  {
   "cell_type": "markdown",
   "id": "c25c895a",
   "metadata": {},
   "source": [
    "Let's first import the `Priority` class and then initialize it. The only required argument in the `Priority` class is the name of the category whose priorities you intend to interact with. For our example, let's look at the `auxiliary-standard` category of targets."
   ]
  },
  {
   "cell_type": "code",
   "execution_count": 17,
   "id": "f3a0eb6d",
   "metadata": {},
   "outputs": [],
   "source": [
    "from pandoratargetlist.prioritize import Priorities"
   ]
  },
  {
   "cell_type": "code",
   "execution_count": 18,
   "id": "a3f0933b",
   "metadata": {},
   "outputs": [],
   "source": [
    "priorities = Priorities('auxiliary-standard')"
   ]
  },
  {
   "cell_type": "markdown",
   "id": "0f517c68",
   "metadata": {},
   "source": [
    "It looks like it found an existing prioritization file for this category. Let's use the `show` method to see what the prioritization is currently."
   ]
  },
  {
   "cell_type": "code",
   "execution_count": 19,
   "id": "87767618",
   "metadata": {},
   "outputs": [
    {
     "name": "stdout",
     "output_type": "stream",
     "text": [
      "Rank  Target                    Priority hours_req    hours_obs    hours_rem   \n",
      "--------------------------------------------------------------------------------\n",
      "0     GJ_1214                   0.9      120.0        0.0          120.0       \n",
      "1     TOI-942                   0.893684 120.0        0.0          120.0       \n",
      "2     TOI-2411                  0.887368 120.0        0.0          120.0       \n",
      "3     TRAPPIST-1                0.881053 120.0        0.0          600.0       \n",
      "4     K2-32                     0.874737 120.0        0.0          120.0       \n",
      "5     TOI-431                   0.868421 120.0        0.0          120.0       \n",
      "6     TOI-2427                  0.862105 120.0        0.0          120.0       \n",
      "7     TOI-444                   0.855789 120.0        0.0          120.0       \n",
      "8     KELT-11                   0.849474 120.0        0.0          120.0       \n",
      "9     K2-148                    0.843158 120.0        0.0          120.0       \n",
      "10    HIP_29442                 0.836842 120.0        0.0          120.0       \n",
      "11    TOI-216                   0.830526 120.0        0.0          120.0       \n",
      "12    HAT-P-12                  0.824211 120.0        0.0          120.0       \n",
      "13    TOI-836                   0.817895 120.0        0.0          120.0       \n",
      "14    HAT-P-18                  0.811579 120.0        0.0          120.0       \n",
      "15    HD_3167                   0.805263 120.0        0.0          120.0       \n",
      "16    GJ_357                    0.798947 120.0        0.0          120.0       \n",
      "17    TOI-3082                  0.792632 120.0        0.0          120.0       \n",
      "18    LHS_3844                  0.786316 120.0        0.0          120.0       \n",
      "19    GJ_486                    0.78     120.0        0.0          120.0       \n",
      "20    K2-141                    0.773684 120.0        0.0          120.0       \n",
      "21    HAT-P-11                  0.767368 120.0        0.0          120.0       \n",
      "22    HD_73583                  0.761053 120.0        0.0          120.0       \n",
      "23    WASP-53                   0.754737 120.0        0.0          120.0       \n",
      "24    EV_Lac                    0.748421 120.0        0.0          120.0       \n",
      "25    HATS-72                   0.742105 120.0        0.0          120.0       \n",
      "26    TOI-139                   0.735789 120.0        0.0          120.0       \n",
      "27    LHS_1140                  0.729474 120.0        0.0          120.0       \n",
      "28    WASP-52                   0.723158 120.0        0.0          120.0       \n",
      "29    TOI-470                   0.716842 120.0        0.0          120.0       \n",
      "30    K2-132                    0.710526 120.0        0.0          120.0       \n",
      "31    K2-147                    0.704211 120.0        0.0          120.0       \n",
      "32    K2-3                      0.697895 120.0        0.0          120.0       \n",
      "33    WASP-69                   0.691579 120.0        0.0          120.0       \n",
      "34    HAT-P-26                  0.685263 120.0        0.0          120.0       \n",
      "35    K2-329                    0.678947 120.0        0.0          120.0       \n",
      "36    GJ_3470                   0.672632 120.0        0.0          120.0       \n",
      "37    K2-171                    0.666316 120.0        0.0          120.0       \n",
      "38    TOI-540                   0.66     120.0        0.0          120.0       \n",
      "39    TOI-3884                  0.653684 120.0        0.0          120.0       \n",
      "40    TOI-1130                  0.647368 120.0        0.0          120.0       \n",
      "41    CoRoT-7                   0.641053 120.0        0.0          120.0       \n",
      "42    HAT-P-19                  0.634737 120.0        0.0          120.0       \n",
      "43    LTT_3780                  0.628421 120.0        0.0          120.0       \n",
      "44    WASP-29                   0.622105 120.0        0.0          120.0       \n",
      "45    HD_15337                  0.615789 120.0        0.0          120.0       \n",
      "46    GJ_806                    0.609474 120.0        0.0          120.0       \n",
      "47    K2-39                     0.603158 120.0        0.0          120.0       \n",
      "48    K2-33                     0.596842 120.0        0.0          120.0       \n",
      "49    TOI-178                   0.590526 120.0        0.0          120.0       \n",
      "50    LTT_1445_A                0.584211 120.0        0.0          120.0       \n",
      "51    TOI-2095                  0.577895 120.0        0.0          120.0       \n",
      "52    K2-131                    0.571579 120.0        0.0          120.0       \n",
      "53    K2-68                     0.565263 120.0        0.0          120.0       \n",
      "54    K2-62                     0.558947 120.0        0.0          120.0       \n",
      "55    WASP-43                   0.552632 120.0        0.0          120.0       \n",
      "56    GJ_9827                   0.546316 120.0        0.0          120.0       \n",
      "57    K2-381                    0.54     120.0        0.0          120.0       \n",
      "58    K2-53                     0.533684 120.0        0.0          120.0       \n",
      "59    YZ_CMI                    0.527368 120.0        0.0          120.0       \n",
      "60    TOI-4551                  0.521053 120.0        0.0          120.0       \n",
      "61    K2-65                     0.514737 120.0        0.0          120.0       \n",
      "62    TOI-776                   0.508421 120.0        0.0          120.0       \n",
      "63    K2-21                     0.502105 120.0        0.0          120.0       \n",
      "64    K2-163                    0.495789 120.0        0.0          120.0       \n",
      "65    TOI-1685                  0.489474 120.0        0.0          120.0       \n",
      "66    WASP-177                  0.483158 120.0        0.0          120.0       \n",
      "67    HD_15906                  0.476842 120.0        0.0          120.0       \n",
      "68    TOI-1416                  0.470526 120.0        0.0          120.0       \n",
      "69    K2-199                    0.464211 120.0        0.0          120.0       \n",
      "70    TOI-1452                  0.457895 120.0        0.0          120.0       \n",
      "71    L_98-59                   0.451579 120.0        0.0          120.0       \n",
      "72    TOI-700                   0.445263 120.0        0.0          120.0       \n",
      "73    K2-417                    0.438947 120.0        0.0          120.0       \n",
      "74    Wolf_503                  0.432632 120.0        0.0          120.0       \n",
      "75    K2-154                    0.426316 120.0        0.0          120.0       \n",
      "76    K2-379                    0.42     120.0        0.0          120.0       \n",
      "77    TOI-2669                  0.413684 120.0        0.0          120.0       \n",
      "78    TOI-244                   0.407368 120.0        0.0          120.0       \n",
      "79    WASP-80                   0.401053 120.0        0.0          120.0       \n",
      "80    K2-383                    0.394737 120.0        0.0          120.0       \n",
      "81    K2-110                    0.388421 120.0        0.0          120.0       \n",
      "82    K2-126                    0.382105 120.0        0.0          120.0       \n",
      "83    LP_714-47                 0.375789 120.0        0.0          120.0       \n",
      "84    K2-192                    0.369474 120.0        0.0          120.0       \n",
      "85    K2-198                    0.363158 120.0        0.0          120.0       \n",
      "86    WASP-132                  0.356842 120.0        0.0          120.0       \n",
      "87    HIP_113103                0.350526 120.0        0.0          120.0       \n",
      "88    TOI-1201                  0.344211 120.0        0.0          120.0       \n",
      "89    K2-55                     0.337895 120.0        0.0          120.0       \n",
      "90    K2-240                    0.331579 120.0        0.0          120.0       \n",
      "91    GJ_3090                   0.325263 120.0        0.0          120.0       \n",
      "92    TOI-2076                  0.318947 120.0        0.0          120.0       \n",
      "93    HIP_65_A                  0.312632 120.0        0.0          120.0       \n",
      "94    TOI-1634                  0.306316 120.0        0.0          120.0       \n",
      "95    WASP-107                  0.3      120.0        0.0          120.0       \n"
     ]
    }
   ],
   "source": [
    "priorities.show()"
   ]
  },
  {
   "cell_type": "markdown",
   "id": "8575844f",
   "metadata": {},
   "source": [
    "This is the basic structure of the contents of the prioritization files. By default, target priorities are sorted between 0.3 and 0.9, with 1.0 being the highest priority. Values outside of 0.3-0.9 are allowed, but require a manual change to the priority.\n",
    "\n",
    "For instance, let's say the Pandora Science Team has decided that KELT-11 needs to be one of the top priorities for auxiliary science. Let's change its priority to 0.95 to reflect this. We'll use the `set_priority` method."
   ]
  },
  {
   "cell_type": "code",
   "execution_count": 20,
   "id": "31acc938",
   "metadata": {},
   "outputs": [
    {
     "name": "stdout",
     "output_type": "stream",
     "text": [
      "Rank  Target                    Priority hours_req    hours_obs    hours_rem   \n",
      "--------------------------------------------------------------------------------\n",
      "0     KELT-11                   0.95     120.0        0.0          120.0       \n",
      "1     GJ_1214                   0.9      120.0        0.0          120.0       \n",
      "2     TOI-942                   0.893617 120.0        0.0          120.0       \n",
      "3     TOI-2411                  0.887234 120.0        0.0          120.0       \n",
      "4     TRAPPIST-1                0.880851 120.0        0.0          600.0       \n",
      "5     K2-32                     0.874468 120.0        0.0          120.0       \n",
      "6     TOI-431                   0.868085 120.0        0.0          120.0       \n",
      "7     TOI-2427                  0.861702 120.0        0.0          120.0       \n",
      "8     TOI-444                   0.855319 120.0        0.0          120.0       \n",
      "9     K2-148                    0.848936 120.0        0.0          120.0       \n",
      "10    HIP_29442                 0.842553 120.0        0.0          120.0       \n",
      "11    TOI-216                   0.83617  120.0        0.0          120.0       \n",
      "12    HAT-P-12                  0.829787 120.0        0.0          120.0       \n",
      "13    TOI-836                   0.823404 120.0        0.0          120.0       \n",
      "14    HAT-P-18                  0.817021 120.0        0.0          120.0       \n",
      "15    HD_3167                   0.810638 120.0        0.0          120.0       \n",
      "16    GJ_357                    0.804255 120.0        0.0          120.0       \n",
      "17    TOI-3082                  0.797872 120.0        0.0          120.0       \n",
      "18    LHS_3844                  0.791489 120.0        0.0          120.0       \n",
      "19    GJ_486                    0.785106 120.0        0.0          120.0       \n",
      "20    K2-141                    0.778723 120.0        0.0          120.0       \n",
      "21    HAT-P-11                  0.77234  120.0        0.0          120.0       \n",
      "22    HD_73583                  0.765957 120.0        0.0          120.0       \n",
      "23    WASP-53                   0.759574 120.0        0.0          120.0       \n",
      "24    EV_Lac                    0.753191 120.0        0.0          120.0       \n",
      "25    HATS-72                   0.746809 120.0        0.0          120.0       \n",
      "26    TOI-139                   0.740426 120.0        0.0          120.0       \n",
      "27    LHS_1140                  0.734043 120.0        0.0          120.0       \n",
      "28    WASP-52                   0.72766  120.0        0.0          120.0       \n",
      "29    TOI-470                   0.721277 120.0        0.0          120.0       \n",
      "30    K2-132                    0.714894 120.0        0.0          120.0       \n",
      "31    K2-147                    0.708511 120.0        0.0          120.0       \n",
      "32    K2-3                      0.702128 120.0        0.0          120.0       \n",
      "33    WASP-69                   0.695745 120.0        0.0          120.0       \n",
      "34    HAT-P-26                  0.689362 120.0        0.0          120.0       \n",
      "35    K2-329                    0.682979 120.0        0.0          120.0       \n",
      "36    GJ_3470                   0.676596 120.0        0.0          120.0       \n",
      "37    K2-171                    0.670213 120.0        0.0          120.0       \n",
      "38    TOI-540                   0.66383  120.0        0.0          120.0       \n",
      "39    TOI-3884                  0.657447 120.0        0.0          120.0       \n",
      "40    TOI-1130                  0.651064 120.0        0.0          120.0       \n",
      "41    CoRoT-7                   0.644681 120.0        0.0          120.0       \n",
      "42    HAT-P-19                  0.638298 120.0        0.0          120.0       \n",
      "43    LTT_3780                  0.631915 120.0        0.0          120.0       \n",
      "44    WASP-29                   0.625532 120.0        0.0          120.0       \n",
      "45    HD_15337                  0.619149 120.0        0.0          120.0       \n",
      "46    GJ_806                    0.612766 120.0        0.0          120.0       \n",
      "47    K2-39                     0.606383 120.0        0.0          120.0       \n",
      "48    K2-33                     0.6      120.0        0.0          120.0       \n",
      "49    TOI-178                   0.593617 120.0        0.0          120.0       \n",
      "50    LTT_1445_A                0.587234 120.0        0.0          120.0       \n",
      "51    TOI-2095                  0.580851 120.0        0.0          120.0       \n",
      "52    K2-131                    0.574468 120.0        0.0          120.0       \n",
      "53    K2-68                     0.568085 120.0        0.0          120.0       \n",
      "54    K2-62                     0.561702 120.0        0.0          120.0       \n",
      "55    WASP-43                   0.555319 120.0        0.0          120.0       \n",
      "56    GJ_9827                   0.548936 120.0        0.0          120.0       \n",
      "57    K2-381                    0.542553 120.0        0.0          120.0       \n",
      "58    K2-53                     0.53617  120.0        0.0          120.0       \n",
      "59    YZ_CMI                    0.529787 120.0        0.0          120.0       \n",
      "60    TOI-4551                  0.523404 120.0        0.0          120.0       \n",
      "61    K2-65                     0.517021 120.0        0.0          120.0       \n",
      "62    TOI-776                   0.510638 120.0        0.0          120.0       \n",
      "63    K2-21                     0.504255 120.0        0.0          120.0       \n",
      "64    K2-163                    0.497872 120.0        0.0          120.0       \n",
      "65    TOI-1685                  0.491489 120.0        0.0          120.0       \n",
      "66    WASP-177                  0.485106 120.0        0.0          120.0       \n",
      "67    HD_15906                  0.478723 120.0        0.0          120.0       \n",
      "68    TOI-1416                  0.47234  120.0        0.0          120.0       \n",
      "69    K2-199                    0.465957 120.0        0.0          120.0       \n",
      "70    TOI-1452                  0.459574 120.0        0.0          120.0       \n",
      "71    L_98-59                   0.453191 120.0        0.0          120.0       \n",
      "72    TOI-700                   0.446809 120.0        0.0          120.0       \n",
      "73    K2-417                    0.440426 120.0        0.0          120.0       \n",
      "74    Wolf_503                  0.434043 120.0        0.0          120.0       \n",
      "75    K2-154                    0.42766  120.0        0.0          120.0       \n",
      "76    K2-379                    0.421277 120.0        0.0          120.0       \n",
      "77    TOI-2669                  0.414894 120.0        0.0          120.0       \n",
      "78    TOI-244                   0.408511 120.0        0.0          120.0       \n",
      "79    WASP-80                   0.402128 120.0        0.0          120.0       \n",
      "80    K2-383                    0.395745 120.0        0.0          120.0       \n",
      "81    K2-110                    0.389362 120.0        0.0          120.0       \n",
      "82    K2-126                    0.382979 120.0        0.0          120.0       \n",
      "83    LP_714-47                 0.376596 120.0        0.0          120.0       \n",
      "84    K2-192                    0.370213 120.0        0.0          120.0       \n",
      "85    K2-198                    0.36383  120.0        0.0          120.0       \n",
      "86    WASP-132                  0.357447 120.0        0.0          120.0       \n",
      "87    HIP_113103                0.351064 120.0        0.0          120.0       \n",
      "88    TOI-1201                  0.344681 120.0        0.0          120.0       \n",
      "89    K2-55                     0.338298 120.0        0.0          120.0       \n",
      "90    K2-240                    0.331915 120.0        0.0          120.0       \n",
      "91    GJ_3090                   0.325532 120.0        0.0          120.0       \n",
      "92    TOI-2076                  0.319149 120.0        0.0          120.0       \n",
      "93    HIP_65_A                  0.312766 120.0        0.0          120.0       \n",
      "94    TOI-1634                  0.306383 120.0        0.0          120.0       \n",
      "95    WASP-107                  0.3      120.0        0.0          120.0       \n"
     ]
    }
   ],
   "source": [
    "priorities.set_priority('KELT-11', 0.95)\n",
    "priorities.show()"
   ]
  },
  {
   "cell_type": "markdown",
   "id": "e5389096",
   "metadata": {},
   "source": [
    "The software automatically recalculates the priorities and ranking of targets after one is manually moved or has its priority value specified. As you can see, KELT-11 is now above all of the other targets that have their priority values calculated between 0.3 and 0.9."
   ]
  },
  {
   "cell_type": "markdown",
   "id": "507dd8ac",
   "metadata": {},
   "source": [
    "Targets can move their relative position as well without sepcifying an exact priority value. This is accomplished through the `move_target` method. Say we want to move TRAPPIST-1 down 5 ranks from its current rank of 4."
   ]
  },
  {
   "cell_type": "code",
   "execution_count": 21,
   "id": "ef310248",
   "metadata": {},
   "outputs": [
    {
     "name": "stdout",
     "output_type": "stream",
     "text": [
      "Rank  Target                    Priority hours_req    hours_obs    hours_rem   \n",
      "--------------------------------------------------------------------------------\n",
      "0     KELT-11                   0.95     120.0        0.0          120.0       \n",
      "1     GJ_1214                   0.9      120.0        0.0          120.0       \n",
      "2     TOI-942                   0.893617 120.0        0.0          120.0       \n",
      "3     TOI-2411                  0.887234 120.0        0.0          120.0       \n",
      "4     K2-32                     0.880851 120.0        0.0          120.0       \n",
      "5     TOI-431                   0.874468 120.0        0.0          120.0       \n",
      "6     TOI-2427                  0.868085 120.0        0.0          120.0       \n",
      "7     TOI-444                   0.861702 120.0        0.0          120.0       \n",
      "8     K2-148                    0.855319 120.0        0.0          120.0       \n",
      "9     TRAPPIST-1                0.848936 120.0        0.0          600.0       \n",
      "10    HIP_29442                 0.842553 120.0        0.0          120.0       \n",
      "11    TOI-216                   0.83617  120.0        0.0          120.0       \n",
      "12    HAT-P-12                  0.829787 120.0        0.0          120.0       \n",
      "13    TOI-836                   0.823404 120.0        0.0          120.0       \n",
      "14    HAT-P-18                  0.817021 120.0        0.0          120.0       \n",
      "15    HD_3167                   0.810638 120.0        0.0          120.0       \n",
      "16    GJ_357                    0.804255 120.0        0.0          120.0       \n",
      "17    TOI-3082                  0.797872 120.0        0.0          120.0       \n",
      "18    LHS_3844                  0.791489 120.0        0.0          120.0       \n",
      "19    GJ_486                    0.785106 120.0        0.0          120.0       \n",
      "20    K2-141                    0.778723 120.0        0.0          120.0       \n",
      "21    HAT-P-11                  0.77234  120.0        0.0          120.0       \n",
      "22    HD_73583                  0.765957 120.0        0.0          120.0       \n",
      "23    WASP-53                   0.759574 120.0        0.0          120.0       \n",
      "24    EV_Lac                    0.753191 120.0        0.0          120.0       \n",
      "25    HATS-72                   0.746809 120.0        0.0          120.0       \n",
      "26    TOI-139                   0.740426 120.0        0.0          120.0       \n",
      "27    LHS_1140                  0.734043 120.0        0.0          120.0       \n",
      "28    WASP-52                   0.72766  120.0        0.0          120.0       \n",
      "29    TOI-470                   0.721277 120.0        0.0          120.0       \n",
      "30    K2-132                    0.714894 120.0        0.0          120.0       \n",
      "31    K2-147                    0.708511 120.0        0.0          120.0       \n",
      "32    K2-3                      0.702128 120.0        0.0          120.0       \n",
      "33    WASP-69                   0.695745 120.0        0.0          120.0       \n",
      "34    HAT-P-26                  0.689362 120.0        0.0          120.0       \n",
      "35    K2-329                    0.682979 120.0        0.0          120.0       \n",
      "36    GJ_3470                   0.676596 120.0        0.0          120.0       \n",
      "37    K2-171                    0.670213 120.0        0.0          120.0       \n",
      "38    TOI-540                   0.66383  120.0        0.0          120.0       \n",
      "39    TOI-3884                  0.657447 120.0        0.0          120.0       \n",
      "40    TOI-1130                  0.651064 120.0        0.0          120.0       \n",
      "41    CoRoT-7                   0.644681 120.0        0.0          120.0       \n",
      "42    HAT-P-19                  0.638298 120.0        0.0          120.0       \n",
      "43    LTT_3780                  0.631915 120.0        0.0          120.0       \n",
      "44    WASP-29                   0.625532 120.0        0.0          120.0       \n",
      "45    HD_15337                  0.619149 120.0        0.0          120.0       \n",
      "46    GJ_806                    0.612766 120.0        0.0          120.0       \n",
      "47    K2-39                     0.606383 120.0        0.0          120.0       \n",
      "48    K2-33                     0.6      120.0        0.0          120.0       \n",
      "49    TOI-178                   0.593617 120.0        0.0          120.0       \n",
      "50    LTT_1445_A                0.587234 120.0        0.0          120.0       \n",
      "51    TOI-2095                  0.580851 120.0        0.0          120.0       \n",
      "52    K2-131                    0.574468 120.0        0.0          120.0       \n",
      "53    K2-68                     0.568085 120.0        0.0          120.0       \n",
      "54    K2-62                     0.561702 120.0        0.0          120.0       \n",
      "55    WASP-43                   0.555319 120.0        0.0          120.0       \n",
      "56    GJ_9827                   0.548936 120.0        0.0          120.0       \n",
      "57    K2-381                    0.542553 120.0        0.0          120.0       \n",
      "58    K2-53                     0.53617  120.0        0.0          120.0       \n",
      "59    YZ_CMI                    0.529787 120.0        0.0          120.0       \n",
      "60    TOI-4551                  0.523404 120.0        0.0          120.0       \n",
      "61    K2-65                     0.517021 120.0        0.0          120.0       \n",
      "62    TOI-776                   0.510638 120.0        0.0          120.0       \n",
      "63    K2-21                     0.504255 120.0        0.0          120.0       \n",
      "64    K2-163                    0.497872 120.0        0.0          120.0       \n",
      "65    TOI-1685                  0.491489 120.0        0.0          120.0       \n",
      "66    WASP-177                  0.485106 120.0        0.0          120.0       \n",
      "67    HD_15906                  0.478723 120.0        0.0          120.0       \n",
      "68    TOI-1416                  0.47234  120.0        0.0          120.0       \n",
      "69    K2-199                    0.465957 120.0        0.0          120.0       \n",
      "70    TOI-1452                  0.459574 120.0        0.0          120.0       \n",
      "71    L_98-59                   0.453191 120.0        0.0          120.0       \n",
      "72    TOI-700                   0.446809 120.0        0.0          120.0       \n",
      "73    K2-417                    0.440426 120.0        0.0          120.0       \n",
      "74    Wolf_503                  0.434043 120.0        0.0          120.0       \n",
      "75    K2-154                    0.42766  120.0        0.0          120.0       \n",
      "76    K2-379                    0.421277 120.0        0.0          120.0       \n",
      "77    TOI-2669                  0.414894 120.0        0.0          120.0       \n",
      "78    TOI-244                   0.408511 120.0        0.0          120.0       \n",
      "79    WASP-80                   0.402128 120.0        0.0          120.0       \n",
      "80    K2-383                    0.395745 120.0        0.0          120.0       \n",
      "81    K2-110                    0.389362 120.0        0.0          120.0       \n",
      "82    K2-126                    0.382979 120.0        0.0          120.0       \n",
      "83    LP_714-47                 0.376596 120.0        0.0          120.0       \n",
      "84    K2-192                    0.370213 120.0        0.0          120.0       \n",
      "85    K2-198                    0.36383  120.0        0.0          120.0       \n",
      "86    WASP-132                  0.357447 120.0        0.0          120.0       \n",
      "87    HIP_113103                0.351064 120.0        0.0          120.0       \n",
      "88    TOI-1201                  0.344681 120.0        0.0          120.0       \n",
      "89    K2-55                     0.338298 120.0        0.0          120.0       \n",
      "90    K2-240                    0.331915 120.0        0.0          120.0       \n",
      "91    GJ_3090                   0.325532 120.0        0.0          120.0       \n",
      "92    TOI-2076                  0.319149 120.0        0.0          120.0       \n",
      "93    HIP_65_A                  0.312766 120.0        0.0          120.0       \n",
      "94    TOI-1634                  0.306383 120.0        0.0          120.0       \n",
      "95    WASP-107                  0.3      120.0        0.0          120.0       \n"
     ]
    }
   ],
   "source": [
    "priorities.move_target('TRAPPIST-1', delta=5)\n",
    "priorities.show()"
   ]
  },
  {
   "cell_type": "markdown",
   "id": "d9441df8",
   "metadata": {},
   "source": [
    "TRAPPIST-1 has now moved down to rank 9. Moving targets up can be accomplished by using a negative number instead. The `move_target` method can also move targets relative to the rank of a second target. For instance, let's say we want to move HAT-P-11 to right above TRAPPIST-1."
   ]
  },
  {
   "cell_type": "code",
   "execution_count": 22,
   "id": "5ac565ce",
   "metadata": {},
   "outputs": [
    {
     "name": "stdout",
     "output_type": "stream",
     "text": [
      "Rank  Target                    Priority hours_req    hours_obs    hours_rem   \n",
      "--------------------------------------------------------------------------------\n",
      "0     KELT-11                   0.95     120.0        0.0          120.0       \n",
      "1     GJ_1214                   0.9      120.0        0.0          120.0       \n",
      "2     TOI-942                   0.893617 120.0        0.0          120.0       \n",
      "3     TOI-2411                  0.887234 120.0        0.0          120.0       \n",
      "4     K2-32                     0.880851 120.0        0.0          120.0       \n",
      "5     TOI-431                   0.874468 120.0        0.0          120.0       \n",
      "6     TOI-2427                  0.868085 120.0        0.0          120.0       \n",
      "7     TOI-444                   0.861702 120.0        0.0          120.0       \n",
      "8     K2-148                    0.855319 120.0        0.0          120.0       \n",
      "9     HAT-P-11                  0.848936 120.0        0.0          120.0       \n",
      "10    TRAPPIST-1                0.842553 120.0        0.0          600.0       \n",
      "11    HIP_29442                 0.83617  120.0        0.0          120.0       \n",
      "12    TOI-216                   0.829787 120.0        0.0          120.0       \n",
      "13    HAT-P-12                  0.823404 120.0        0.0          120.0       \n",
      "14    TOI-836                   0.817021 120.0        0.0          120.0       \n",
      "15    HAT-P-18                  0.810638 120.0        0.0          120.0       \n",
      "16    HD_3167                   0.804255 120.0        0.0          120.0       \n",
      "17    GJ_357                    0.797872 120.0        0.0          120.0       \n",
      "18    TOI-3082                  0.791489 120.0        0.0          120.0       \n",
      "19    LHS_3844                  0.785106 120.0        0.0          120.0       \n",
      "20    GJ_486                    0.778723 120.0        0.0          120.0       \n",
      "21    K2-141                    0.77234  120.0        0.0          120.0       \n",
      "22    HD_73583                  0.765957 120.0        0.0          120.0       \n",
      "23    WASP-53                   0.759574 120.0        0.0          120.0       \n",
      "24    EV_Lac                    0.753191 120.0        0.0          120.0       \n",
      "25    HATS-72                   0.746809 120.0        0.0          120.0       \n",
      "26    TOI-139                   0.740426 120.0        0.0          120.0       \n",
      "27    LHS_1140                  0.734043 120.0        0.0          120.0       \n",
      "28    WASP-52                   0.72766  120.0        0.0          120.0       \n",
      "29    TOI-470                   0.721277 120.0        0.0          120.0       \n",
      "30    K2-132                    0.714894 120.0        0.0          120.0       \n",
      "31    K2-147                    0.708511 120.0        0.0          120.0       \n",
      "32    K2-3                      0.702128 120.0        0.0          120.0       \n",
      "33    WASP-69                   0.695745 120.0        0.0          120.0       \n",
      "34    HAT-P-26                  0.689362 120.0        0.0          120.0       \n",
      "35    K2-329                    0.682979 120.0        0.0          120.0       \n",
      "36    GJ_3470                   0.676596 120.0        0.0          120.0       \n",
      "37    K2-171                    0.670213 120.0        0.0          120.0       \n",
      "38    TOI-540                   0.66383  120.0        0.0          120.0       \n",
      "39    TOI-3884                  0.657447 120.0        0.0          120.0       \n",
      "40    TOI-1130                  0.651064 120.0        0.0          120.0       \n",
      "41    CoRoT-7                   0.644681 120.0        0.0          120.0       \n",
      "42    HAT-P-19                  0.638298 120.0        0.0          120.0       \n",
      "43    LTT_3780                  0.631915 120.0        0.0          120.0       \n",
      "44    WASP-29                   0.625532 120.0        0.0          120.0       \n",
      "45    HD_15337                  0.619149 120.0        0.0          120.0       \n",
      "46    GJ_806                    0.612766 120.0        0.0          120.0       \n",
      "47    K2-39                     0.606383 120.0        0.0          120.0       \n",
      "48    K2-33                     0.6      120.0        0.0          120.0       \n",
      "49    TOI-178                   0.593617 120.0        0.0          120.0       \n",
      "50    LTT_1445_A                0.587234 120.0        0.0          120.0       \n",
      "51    TOI-2095                  0.580851 120.0        0.0          120.0       \n",
      "52    K2-131                    0.574468 120.0        0.0          120.0       \n",
      "53    K2-68                     0.568085 120.0        0.0          120.0       \n",
      "54    K2-62                     0.561702 120.0        0.0          120.0       \n",
      "55    WASP-43                   0.555319 120.0        0.0          120.0       \n",
      "56    GJ_9827                   0.548936 120.0        0.0          120.0       \n",
      "57    K2-381                    0.542553 120.0        0.0          120.0       \n",
      "58    K2-53                     0.53617  120.0        0.0          120.0       \n",
      "59    YZ_CMI                    0.529787 120.0        0.0          120.0       \n",
      "60    TOI-4551                  0.523404 120.0        0.0          120.0       \n",
      "61    K2-65                     0.517021 120.0        0.0          120.0       \n",
      "62    TOI-776                   0.510638 120.0        0.0          120.0       \n",
      "63    K2-21                     0.504255 120.0        0.0          120.0       \n",
      "64    K2-163                    0.497872 120.0        0.0          120.0       \n",
      "65    TOI-1685                  0.491489 120.0        0.0          120.0       \n",
      "66    WASP-177                  0.485106 120.0        0.0          120.0       \n",
      "67    HD_15906                  0.478723 120.0        0.0          120.0       \n",
      "68    TOI-1416                  0.47234  120.0        0.0          120.0       \n",
      "69    K2-199                    0.465957 120.0        0.0          120.0       \n",
      "70    TOI-1452                  0.459574 120.0        0.0          120.0       \n",
      "71    L_98-59                   0.453191 120.0        0.0          120.0       \n",
      "72    TOI-700                   0.446809 120.0        0.0          120.0       \n",
      "73    K2-417                    0.440426 120.0        0.0          120.0       \n",
      "74    Wolf_503                  0.434043 120.0        0.0          120.0       \n",
      "75    K2-154                    0.42766  120.0        0.0          120.0       \n",
      "76    K2-379                    0.421277 120.0        0.0          120.0       \n",
      "77    TOI-2669                  0.414894 120.0        0.0          120.0       \n",
      "78    TOI-244                   0.408511 120.0        0.0          120.0       \n",
      "79    WASP-80                   0.402128 120.0        0.0          120.0       \n",
      "80    K2-383                    0.395745 120.0        0.0          120.0       \n",
      "81    K2-110                    0.389362 120.0        0.0          120.0       \n",
      "82    K2-126                    0.382979 120.0        0.0          120.0       \n",
      "83    LP_714-47                 0.376596 120.0        0.0          120.0       \n",
      "84    K2-192                    0.370213 120.0        0.0          120.0       \n",
      "85    K2-198                    0.36383  120.0        0.0          120.0       \n",
      "86    WASP-132                  0.357447 120.0        0.0          120.0       \n",
      "87    HIP_113103                0.351064 120.0        0.0          120.0       \n",
      "88    TOI-1201                  0.344681 120.0        0.0          120.0       \n",
      "89    K2-55                     0.338298 120.0        0.0          120.0       \n",
      "90    K2-240                    0.331915 120.0        0.0          120.0       \n",
      "91    GJ_3090                   0.325532 120.0        0.0          120.0       \n",
      "92    TOI-2076                  0.319149 120.0        0.0          120.0       \n",
      "93    HIP_65_A                  0.312766 120.0        0.0          120.0       \n",
      "94    TOI-1634                  0.306383 120.0        0.0          120.0       \n",
      "95    WASP-107                  0.3      120.0        0.0          120.0       \n"
     ]
    }
   ],
   "source": [
    "priorities.move_target('HAT-P-11', above='TRAPPIST-1')\n",
    "priorities.show()"
   ]
  },
  {
   "cell_type": "markdown",
   "id": "60880bab",
   "metadata": {},
   "source": [
    "You can see that HAT-P-11 is now rank 9 and TRAPPIST-1 is rank 10. `move_target` also takes a `below` argument so you can specify if you'd rather a target move to below another target, rather than above it."
   ]
  },
  {
   "cell_type": "markdown",
   "id": "912797b3",
   "metadata": {},
   "source": [
    "Targets that are moved through either the `set_priority` or `move_target` methods are tracked as manually moved targets and aren't subject to the automatic reordering that occurs after the execution of some methods. Using `move_target` to earmark the target to preserve its rank in the order of targets (barring another manual change) but will not freeze the priority value that it's assigned from doing so. `set_priority` on the other hand will freeze the priority value that has been set for it but not necessarily its rank in the order or targets. Choose which method suits your needs based on whether rank in the order or priority value is more important to your use case.\n",
    "\n",
    "If you ever wanted to clear the session's memory of which targets you manually adjusted, you can use the `clear_manual_priorities` method. This will also recalculate the priorities of the targets while preserving the order."
   ]
  },
  {
   "cell_type": "code",
   "execution_count": 23,
   "id": "22e1f8e3",
   "metadata": {},
   "outputs": [
    {
     "name": "stdout",
     "output_type": "stream",
     "text": [
      "Rank  Target                    Priority hours_req    hours_obs    hours_rem   \n",
      "--------------------------------------------------------------------------------\n",
      "0     KELT-11                   0.9      120.0        0.0          120.0       \n",
      "1     GJ_1214                   0.893684 120.0        0.0          120.0       \n",
      "2     TOI-942                   0.887368 120.0        0.0          120.0       \n",
      "3     TOI-2411                  0.881053 120.0        0.0          120.0       \n",
      "4     K2-32                     0.874737 120.0        0.0          120.0       \n",
      "5     TOI-431                   0.868421 120.0        0.0          120.0       \n",
      "6     TOI-2427                  0.862105 120.0        0.0          120.0       \n",
      "7     TOI-444                   0.855789 120.0        0.0          120.0       \n",
      "8     K2-148                    0.849474 120.0        0.0          120.0       \n",
      "9     HAT-P-11                  0.843158 120.0        0.0          120.0       \n",
      "10    TRAPPIST-1                0.836842 120.0        0.0          600.0       \n",
      "11    HIP_29442                 0.830526 120.0        0.0          120.0       \n",
      "12    TOI-216                   0.824211 120.0        0.0          120.0       \n",
      "13    HAT-P-12                  0.817895 120.0        0.0          120.0       \n",
      "14    TOI-836                   0.811579 120.0        0.0          120.0       \n",
      "15    HAT-P-18                  0.805263 120.0        0.0          120.0       \n",
      "16    HD_3167                   0.798947 120.0        0.0          120.0       \n",
      "17    GJ_357                    0.792632 120.0        0.0          120.0       \n",
      "18    TOI-3082                  0.786316 120.0        0.0          120.0       \n",
      "19    LHS_3844                  0.78     120.0        0.0          120.0       \n",
      "20    GJ_486                    0.773684 120.0        0.0          120.0       \n",
      "21    K2-141                    0.767368 120.0        0.0          120.0       \n",
      "22    HD_73583                  0.761053 120.0        0.0          120.0       \n",
      "23    WASP-53                   0.754737 120.0        0.0          120.0       \n",
      "24    EV_Lac                    0.748421 120.0        0.0          120.0       \n",
      "25    HATS-72                   0.742105 120.0        0.0          120.0       \n",
      "26    TOI-139                   0.735789 120.0        0.0          120.0       \n",
      "27    LHS_1140                  0.729474 120.0        0.0          120.0       \n",
      "28    WASP-52                   0.723158 120.0        0.0          120.0       \n",
      "29    TOI-470                   0.716842 120.0        0.0          120.0       \n",
      "30    K2-132                    0.710526 120.0        0.0          120.0       \n",
      "31    K2-147                    0.704211 120.0        0.0          120.0       \n",
      "32    K2-3                      0.697895 120.0        0.0          120.0       \n",
      "33    WASP-69                   0.691579 120.0        0.0          120.0       \n",
      "34    HAT-P-26                  0.685263 120.0        0.0          120.0       \n",
      "35    K2-329                    0.678947 120.0        0.0          120.0       \n",
      "36    GJ_3470                   0.672632 120.0        0.0          120.0       \n",
      "37    K2-171                    0.666316 120.0        0.0          120.0       \n",
      "38    TOI-540                   0.66     120.0        0.0          120.0       \n",
      "39    TOI-3884                  0.653684 120.0        0.0          120.0       \n",
      "40    TOI-1130                  0.647368 120.0        0.0          120.0       \n",
      "41    CoRoT-7                   0.641053 120.0        0.0          120.0       \n",
      "42    HAT-P-19                  0.634737 120.0        0.0          120.0       \n",
      "43    LTT_3780                  0.628421 120.0        0.0          120.0       \n",
      "44    WASP-29                   0.622105 120.0        0.0          120.0       \n",
      "45    HD_15337                  0.615789 120.0        0.0          120.0       \n",
      "46    GJ_806                    0.609474 120.0        0.0          120.0       \n",
      "47    K2-39                     0.603158 120.0        0.0          120.0       \n",
      "48    K2-33                     0.596842 120.0        0.0          120.0       \n",
      "49    TOI-178                   0.590526 120.0        0.0          120.0       \n",
      "50    LTT_1445_A                0.584211 120.0        0.0          120.0       \n",
      "51    TOI-2095                  0.577895 120.0        0.0          120.0       \n",
      "52    K2-131                    0.571579 120.0        0.0          120.0       \n",
      "53    K2-68                     0.565263 120.0        0.0          120.0       \n",
      "54    K2-62                     0.558947 120.0        0.0          120.0       \n",
      "55    WASP-43                   0.552632 120.0        0.0          120.0       \n",
      "56    GJ_9827                   0.546316 120.0        0.0          120.0       \n",
      "57    K2-381                    0.54     120.0        0.0          120.0       \n",
      "58    K2-53                     0.533684 120.0        0.0          120.0       \n",
      "59    YZ_CMI                    0.527368 120.0        0.0          120.0       \n",
      "60    TOI-4551                  0.521053 120.0        0.0          120.0       \n",
      "61    K2-65                     0.514737 120.0        0.0          120.0       \n",
      "62    TOI-776                   0.508421 120.0        0.0          120.0       \n",
      "63    K2-21                     0.502105 120.0        0.0          120.0       \n",
      "64    K2-163                    0.495789 120.0        0.0          120.0       \n",
      "65    TOI-1685                  0.489474 120.0        0.0          120.0       \n",
      "66    WASP-177                  0.483158 120.0        0.0          120.0       \n",
      "67    HD_15906                  0.476842 120.0        0.0          120.0       \n",
      "68    TOI-1416                  0.470526 120.0        0.0          120.0       \n",
      "69    K2-199                    0.464211 120.0        0.0          120.0       \n",
      "70    TOI-1452                  0.457895 120.0        0.0          120.0       \n",
      "71    L_98-59                   0.451579 120.0        0.0          120.0       \n",
      "72    TOI-700                   0.445263 120.0        0.0          120.0       \n",
      "73    K2-417                    0.438947 120.0        0.0          120.0       \n",
      "74    Wolf_503                  0.432632 120.0        0.0          120.0       \n",
      "75    K2-154                    0.426316 120.0        0.0          120.0       \n",
      "76    K2-379                    0.42     120.0        0.0          120.0       \n",
      "77    TOI-2669                  0.413684 120.0        0.0          120.0       \n",
      "78    TOI-244                   0.407368 120.0        0.0          120.0       \n",
      "79    WASP-80                   0.401053 120.0        0.0          120.0       \n",
      "80    K2-383                    0.394737 120.0        0.0          120.0       \n",
      "81    K2-110                    0.388421 120.0        0.0          120.0       \n",
      "82    K2-126                    0.382105 120.0        0.0          120.0       \n",
      "83    LP_714-47                 0.375789 120.0        0.0          120.0       \n",
      "84    K2-192                    0.369474 120.0        0.0          120.0       \n",
      "85    K2-198                    0.363158 120.0        0.0          120.0       \n",
      "86    WASP-132                  0.356842 120.0        0.0          120.0       \n",
      "87    HIP_113103                0.350526 120.0        0.0          120.0       \n",
      "88    TOI-1201                  0.344211 120.0        0.0          120.0       \n",
      "89    K2-55                     0.337895 120.0        0.0          120.0       \n",
      "90    K2-240                    0.331579 120.0        0.0          120.0       \n",
      "91    GJ_3090                   0.325263 120.0        0.0          120.0       \n",
      "92    TOI-2076                  0.318947 120.0        0.0          120.0       \n",
      "93    HIP_65_A                  0.312632 120.0        0.0          120.0       \n",
      "94    TOI-1634                  0.306316 120.0        0.0          120.0       \n",
      "95    WASP-107                  0.3      120.0        0.0          120.0       \n"
     ]
    }
   ],
   "source": [
    "priorities.clear_manual_priorities()\n",
    "priorities.show()"
   ]
  },
  {
   "cell_type": "markdown",
   "id": "ee5c4372",
   "metadata": {},
   "source": [
    "Finally, we can save the priority file that we've created using the `save` method. This method is commented out below to prevent accidental saves, but should you choose to save your changes, the `save` method will automatically save the prioritization you've made in the correct location within the target definition file directories using the proper header. Similar to when the `Target` class is initialized, the `Priorities` class takes `author` as an argument, with the default set to `author=system`, so be sure to change that upon initialization if you want something different listed for the author field in the prioritization file header!"
   ]
  },
  {
   "cell_type": "code",
   "execution_count": 24,
   "id": "90578009",
   "metadata": {},
   "outputs": [],
   "source": [
    "# priorities.save()"
   ]
  }
 ],
 "metadata": {
  "kernelspec": {
   "display_name": "pandora",
   "language": "python",
   "name": "python3"
  },
  "language_info": {
   "codemirror_mode": {
    "name": "ipython",
    "version": 3
   },
   "file_extension": ".py",
   "mimetype": "text/x-python",
   "name": "python",
   "nbconvert_exporter": "python",
   "pygments_lexer": "ipython3",
   "version": "3.10.4"
  }
 },
 "nbformat": 4,
 "nbformat_minor": 5
}
